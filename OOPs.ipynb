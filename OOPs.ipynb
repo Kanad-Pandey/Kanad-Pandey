{
  "nbformat": 4,
  "nbformat_minor": 0,
  "metadata": {
    "colab": {
      "provenance": [],
      "authorship_tag": "ABX9TyPJgcSCb3NlJWjwnxJARMse",
      "include_colab_link": true
    },
    "kernelspec": {
      "name": "python3",
      "display_name": "Python 3"
    },
    "language_info": {
      "name": "python"
    }
  },
  "cells": [
    {
      "cell_type": "markdown",
      "metadata": {
        "id": "view-in-github",
        "colab_type": "text"
      },
      "source": [
        "<a href=\"https://colab.research.google.com/github/Kanad-Pandey/Kanad-Pandey/blob/main/OOPs.ipynb\" target=\"_parent\"><img src=\"https://colab.research.google.com/assets/colab-badge.svg\" alt=\"Open In Colab\"/></a>"
      ]
    },
    {
      "cell_type": "code",
      "execution_count": null,
      "metadata": {
        "id": "PuoNKrNbbyyL"
      },
      "outputs": [],
      "source": [
        "l=[1,2,3]\n",
        "l.upper()"
      ]
    },
    {
      "cell_type": "code",
      "source": [
        "s=\"hello\"\n",
        "s.append('x')\n",
        "#list str obj\n",
        "#everything in pythin is obj ***We can make our own data types***"
      ],
      "metadata": {
        "id": "EFAPiEnJb2Sy"
      },
      "execution_count": null,
      "outputs": []
    },
    {
      "cell_type": "code",
      "source": [
        "#class\n",
        "L=[1,2,3]\n",
        "print(type(L))#connect wit 1 code all we have studied are classes"
      ],
      "metadata": {
        "colab": {
          "base_uri": "https://localhost:8080/"
        },
        "id": "7ZxY3yfVb2U1",
        "outputId": "c5406c1f-7971-425b-f5d9-578ce84aae1d"
      },
      "execution_count": 3,
      "outputs": [
        {
          "output_type": "stream",
          "name": "stdout",
          "text": [
            "<class 'list'>\n"
          ]
        }
      ]
    },
    {
      "cell_type": "code",
      "source": [
        "#l is obj of class list,,, class is blueprint rules obj behave accr to class and follow rules,,,obj is instance of class"
      ],
      "metadata": {
        "id": "sWfY7axnb2XM"
      },
      "execution_count": null,
      "outputs": []
    },
    {
      "cell_type": "code",
      "source": [
        "l=list([1,2])\n",
        "l"
      ],
      "metadata": {
        "colab": {
          "base_uri": "https://localhost:8080/"
        },
        "id": "p9A9JfjBb2Zi",
        "outputId": "4dbcea67-8b3f-4c2f-d20e-383e8ce642ab"
      },
      "execution_count": 6,
      "outputs": [
        {
          "output_type": "execute_result",
          "data": {
            "text/plain": [
              "[1, 2]"
            ]
          },
          "metadata": {},
          "execution_count": 6
        }
      ]
    },
    {
      "cell_type": "code",
      "source": [
        "#atm #user defined class\n",
        "class atm: #data n functions think? data(pin,balance)\n",
        "\n",
        "  #constructor>>>special fucnt no need to call when we make obj const code executes\n",
        "  def __init__(self):\n",
        "    self.pin=''\n",
        "    self.balance=0\n",
        "    self.menu()\n",
        "\n",
        "  def menu(self):\n",
        "    user_input=input(\"\"\"\n",
        "    Hi how can i help you?\n",
        "    1. Press 1 to create pin\n",
        "    2. Press 2 to change pin\n",
        "    3. Press 3 to check balance\n",
        "    4. Press 4 to withdraw\n",
        "    5. Press 5 to exit\n",
        "    \"\"\")\n",
        "\n",
        "    if user_input=='1':\n",
        "      #create pin\n",
        "      self.create_pin()\n",
        "    elif user_input=='2':\n",
        "      #change pin\n",
        "      pass\n",
        "      self.change_pin()\n",
        "    elif user_input=='3':\n",
        "      #check bal\n",
        "      self.check_bal()\n",
        "      pass\n",
        "    elif user_input=='4':\n",
        "      #withdraw\n",
        "      self.withdraw()\n",
        "      pass\n",
        "    else:\n",
        "      exit()\n",
        "\n",
        "\n",
        "  def create_pin(self):\n",
        "    user_pin=input('enter a pin')\n",
        "    self.pin=user_pin\n",
        "\n",
        "    user_balance=int(input('enter bal'))\n",
        "    self.balance=user_balance\n",
        "\n",
        "    print(\"pin created success\")\n",
        "    self.menu()\n",
        "\n",
        "  def change_pin(self):\n",
        "    old_pin=input('enter old pin')\n",
        "\n",
        "    if old_pin == self.pin:\n",
        "      new_pin=input('new pin')\n",
        "      self.pin=new_pin\n",
        "      print('pin change success')\n",
        "      self.menu()\n",
        "    else:\n",
        "      print('wrong pin')\n",
        "      self.menu()\n",
        "\n",
        "  def check_bal(self):\n",
        "    pin=input('enter your pin')\n",
        "    if pin==self.pin:\n",
        "      print('your bal is',self.balance)\n",
        "    else:\n",
        "      print('wrong pin cat fetch balance')\n",
        "\n",
        "  def withdraw(self):\n",
        "    pin=input('enter the pin')\n",
        "    if pin==self.pin:\n",
        "     amount= int(input('enter the amnt'))\n",
        "     if amount<=self.balance:\n",
        "      self.balance=self.balance-amount\n",
        "      print('withdraw succes bal left is',self.balance)\n",
        "     else:\n",
        "        print('not enougn balance')\n",
        "    else:\n",
        "      print('wrong pin')\n",
        "\n",
        "    self.menu()"
      ],
      "metadata": {
        "id": "WvhSau76b2b4"
      },
      "execution_count": 1,
      "outputs": []
    },
    {
      "cell_type": "code",
      "source": [
        "obj=atm()\n",
        "print(type(obj))"
      ],
      "metadata": {
        "id": "SMpcQBFEb2eP"
      },
      "execution_count": null,
      "outputs": []
    },
    {
      "cell_type": "code",
      "source": [
        "obj.##balance n pin\n",
        "#methods vs fuction class ke andr func are called method\n",
        "#len(L)->func l.append()-> method\n",
        "#*class diagram* contructoe configuration codes"
      ],
      "metadata": {
        "id": "GQ77BPzxb2gk"
      },
      "execution_count": null,
      "outputs": []
    },
    {
      "cell_type": "code",
      "source": [
        "#magic method or dunder method\n",
        "#self is the current obj"
      ],
      "metadata": {
        "id": "c0xhOC9vb2iq"
      },
      "execution_count": null,
      "outputs": []
    },
    {
      "cell_type": "code",
      "source": [
        "#fraction class\n",
        "class Fraction:\n",
        "\n",
        "  def __init__(self,x,y): #parameterized\n",
        "    self.num=x\n",
        "    self.den=y\n",
        "\n",
        "  def __str__(self): ## print obj\n",
        "    return  '{}/{}'.format(self.num,self.den)\n",
        "\n",
        "  def __add__(self,other):\n",
        "    new_num=self.num*other.den+other.num*self.den\n",
        "    new_den=self.den*other.den\n",
        "    return  '{}/{}'.format(new_num,new_den)\n",
        "\n",
        "  def __sub__(self,other):\n",
        "    new_num=self.num*other.den-other.num*self.den\n",
        "    new_den=self.den*other.den\n",
        "    return  '{}/{}'.format(new_num,new_den)\n",
        "\n",
        "#mul,DIvide\n"
      ],
      "metadata": {
        "id": "834-1IKgb2kw"
      },
      "execution_count": 17,
      "outputs": []
    },
    {
      "cell_type": "code",
      "source": [
        "fr1=Fraction(3,4)\n",
        "fr2=Fraction(1,2)\n",
        "print(fr1)\n",
        "print(fr1-fr2)"
      ],
      "metadata": {
        "colab": {
          "base_uri": "https://localhost:8080/"
        },
        "id": "gxJpDk-6b2nF",
        "outputId": "d275df81-d9c3-4e8d-9232-327f7bbe3c74"
      },
      "execution_count": 18,
      "outputs": [
        {
          "output_type": "stream",
          "name": "stdout",
          "text": [
            "3/4\n",
            "2/8\n"
          ]
        }
      ]
    },
    {
      "cell_type": "code",
      "source": [],
      "metadata": {
        "id": "0HtEQnbqAgPn"
      },
      "execution_count": null,
      "outputs": []
    }
  ]
}