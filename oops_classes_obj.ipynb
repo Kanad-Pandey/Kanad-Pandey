{
  "nbformat": 4,
  "nbformat_minor": 0,
  "metadata": {
    "colab": {
      "provenance": [],
      "include_colab_link": true
    },
    "kernelspec": {
      "name": "python3",
      "display_name": "Python 3"
    },
    "language_info": {
      "name": "python"
    }
  },
  "cells": [
    {
      "cell_type": "markdown",
      "metadata": {
        "id": "view-in-github",
        "colab_type": "text"
      },
      "source": [
        "<a href=\"https://colab.research.google.com/github/Kanad-Pandey/Kanad-Pandey/blob/main/oops_classes_obj.ipynb\" target=\"_parent\"><img src=\"https://colab.research.google.com/assets/colab-badge.svg\" alt=\"Open In Colab\"/></a>"
      ]
    },
    {
      "cell_type": "markdown",
      "source": [
        "##`Q-1:` Rectangle Class\n",
        "1. Write a Rectangle class in Python language, allowing you to build a rectangle with length and width attributes.\n",
        "\n",
        "2. Create a Perimeter() method to calculate the perimeter of the rectangle and a Area() method to calculate the area of ​​the rectangle.\n",
        "\n",
        "3. Create a method display() that display the length, width, perimeter and area of an object created using an instantiation on rectangle class."
      ],
      "metadata": {
        "id": "FyUJ3PRAsPr4"
      }
    },
    {
      "cell_type": "markdown",
      "source": [
        "Eg.\n",
        "After making above classes and methods, on executing below code:-\n",
        "```\n",
        "my_rectangle = Rectangle(3 , 4)\n",
        "my_rectangle.display()\n",
        "```\n",
        "\n",
        "`Output:`\n",
        "```\n",
        "The length of rectangle is:  3\n",
        "The width of rectangle is:  4\n",
        "The perimeter of rectangle is:  14\n",
        "The area of rectangle is:  12\n",
        "```\n"
      ],
      "metadata": {
        "id": "GxUtOqJfssFK"
      }
    },
    {
      "cell_type": "code",
      "source": [
        "# write your code here"
      ],
      "metadata": {
        "id": "92_QT-Uj6NBg"
      },
      "execution_count": null,
      "outputs": []
    },
    {
      "cell_type": "markdown",
      "source": [
        "##`Q-2: Bank Class`\n",
        "\n",
        "1. Create a Python class called `BankAccount` which represents a bank account, having as attributes: `accountNumber` (numeric type), `name` (name of the account owner as string type), `balance`.\n",
        "2. Create a constructor with parameters: `accountNumber, name, balance`.\n",
        "3. Create a `Deposit()` method which manages the deposit actions.\n",
        "4. Create a `Withdrawal()` method  which manages withdrawals actions.\n",
        "5. Create an `bankFees()` method to apply the bank fees with a percentage of 5% of the balance account.\n",
        "6. Create a `display()` method to display account details.\n",
        "Give the complete code for the  BankAccount class."
      ],
      "metadata": {
        "id": "r_GxrS0Vrdom"
      }
    },
    {
      "cell_type": "markdown",
      "source": [
        "Eg.\n",
        "After making above classes and methods, on executing below code:-\n",
        "```\n",
        "newAccount = BankAccount(2178514584, \"Mandy\" , 2800)\n",
        "\n",
        "newAccount.Withdrawal(700)\n",
        "\n",
        "newAccount.Deposit(1000)\n",
        "\n",
        "newAccount.display()\n",
        "```\n",
        "\n",
        "`Output:`\n",
        "```\n",
        "Account Number :  2178514584\n",
        "Account Name :  Mandy\n",
        "Account Balance :  3100 ₹\n",
        "```"
      ],
      "metadata": {
        "id": "qvVkOUJgvTV_"
      }
    },
    {
      "cell_type": "code",
      "source": [
        "# write your code here"
      ],
      "metadata": {
        "id": "fUQOmQyA6YDR"
      },
      "execution_count": null,
      "outputs": []
    },
    {
      "cell_type": "markdown",
      "source": [
        "##`Q-3:Computation class`\n",
        "\n",
        "1. Create a `Computation` class with a default constructor (without parameters) allowing to perform various calculations on integers numbers.\n",
        "2. Create a method called `Factorial()` which allows to calculate the factorial of an integer n. Integer n as parameter for this method\n",
        "\n",
        "3. Create a method called `naturalSum()` allowing to calculate the sum of the first n integers 1 + 2 + 3 + .. + n. Integer n as parameter for this method.\n",
        "\n",
        "4. Create a method called `testPrime()` in  the Calculation class to test the primality of a given integer n, n is Prime or Not? Integer n as parameter for this method.\n",
        "\n",
        "5. Create  a method called `testPrims()` allowing to test if two numbers are prime between them. Two integers are prime to one another if they have only `1` as their common divisor. Eg. 4 and 9 are prime to each other.\n",
        "\n",
        "5. Create a `tableMult()` method which creates and displays the multiplication table of a given integer. Then create an `allTablesMult()` method to display all the integer multiplication tables 1, 2, 3, ..., 9.\n",
        "\n",
        "6. Create a static `listDiv()` method that gets all the divisors of a given integer on new list called  Ldiv. Create another `listDivPrim()` method that gets all the prime divisors of a given integer."
      ],
      "metadata": {
        "id": "QovcQAZTrgGU"
      }
    },
    {
      "cell_type": "code",
      "source": [
        "# write your code here\n",
        "class Computation:\n",
        "\n",
        "  def _init__(self):\n",
        "    pass\n",
        "\n",
        "  def Factorial(self,n):\n",
        "    if(n==0):\n",
        "      return 1\n",
        "    return n * self.Factorial(n-1)\n",
        "\n",
        "  def naturalSum(self,n):\n",
        "    return (n*(n+1))/2\n",
        "\n",
        "  def testPrime(self,n):\n",
        "    if n <= 1:\n",
        "      return False\n",
        "    for i in range(2, int(n**0.5) + 1):\n",
        "      if n % i == 0:\n",
        "        return False\n",
        "    return True\n",
        "\n",
        "  def testPrimes(self,x,y):\n",
        "    num1 = x\n",
        "    num2 = y\n",
        "    hcf = 1\n",
        "\n",
        "    for i in range(1, min(num1, num2)):\n",
        "      if num1 % i == 0 and num2 % i == 0:\n",
        "        hcf = i\n",
        "    if hcf != 1:\n",
        "      return 'not primes'\n",
        "    else:\n",
        "      return 'primes'\n",
        "\n",
        "  def listDiv(self,n):\n",
        "    l=[]\n",
        "    for i in range(1,n):\n",
        "      if n%i==0:\n",
        "        x=Computation()\n",
        "        if x.testPrime(i):\n",
        "          l.append(i)\n",
        "\n",
        "    return l\n"
      ],
      "metadata": {
        "id": "YEkPH70l6Z-o"
      },
      "execution_count": null,
      "outputs": []
    },
    {
      "cell_type": "code",
      "source": [
        "n=Computation()\n",
        "l=n.listDiv(12)\n",
        "\n",
        "print(l)"
      ],
      "metadata": {
        "id": "gtz4xGOQn9yD",
        "outputId": "ee93a659-1ed4-460b-f473-d5267f24c17e",
        "colab": {
          "base_uri": "https://localhost:8080/"
        }
      },
      "execution_count": null,
      "outputs": [
        {
          "output_type": "stream",
          "name": "stdout",
          "text": [
            "[2, 3]\n"
          ]
        }
      ]
    },
    {
      "cell_type": "markdown",
      "source": [
        "##`Q-4`: Build flashcard using class in Python.\n",
        "\n",
        "Build a flashcard using class in python. A flashcard is a card having information on both sides, which can be used as an aid in memoization. Flashcards usually have a question on one side and an answer on the other.\n",
        "\n",
        "**Example 1:**\n",
        "\n",
        "Approach:\n",
        "\n",
        "- Create a class named FlashCard.\n",
        "- Initialize dictionary fruits using __init__() method. Here you have to define fruit name as key and it's color as value. E.g., {\"Banana\": \"yellow\", \"Strawberries\": \"pink\"}\n",
        "- Now randomly choose a pair from fruits by using _random_ module and store the key in variable _fruit_ and _value_ in variable color.\n",
        "- Now prompt the user to answer the color of the randomly chosen fruit.\n",
        "- If correct print correct else print wrong.\n",
        "\n",
        "Output:\n",
        "```bash\n",
        "welcome to fruit quiz\n",
        "What is the color of Strawberries\n",
        "pink\n",
        "Correct answer\n",
        "Enter 0, if you want to play again: 0\n",
        "What is the color of watermelon\n",
        "green\n",
        "Correct answer\n",
        "Enter 0, if you want to play again: 1\n",
        "```"
      ],
      "metadata": {
        "id": "0yn23_oEriXa"
      }
    },
    {
      "cell_type": "code",
      "source": [
        "dict={'banana':'yellow',\n",
        "      'mango':'yellow', 'apple':'red'}\n",
        "print(dict)"
      ],
      "metadata": {
        "id": "CJD6DOPRn8Nj",
        "outputId": "860f1d1c-be1d-4c43-f381-af388092c61b",
        "colab": {
          "base_uri": "https://localhost:8080/"
        }
      },
      "execution_count": null,
      "outputs": [
        {
          "output_type": "stream",
          "name": "stdout",
          "text": [
            "{'banana': 'yellow', 'mango': 'yellow', 'apple': 'red'}\n"
          ]
        }
      ]
    },
    {
      "cell_type": "code",
      "source": [
        "import random\n",
        "\n",
        "class FlashCard:\n",
        "    def __init__(self):\n",
        "        self.fruits = {\"Banana\": \"yellow\", \"Strawberries\": \"pink\", \"Apple\": \"red\", \"Grapes\": \"purple\", \"Orange\": \"orange\"}\n",
        "\n",
        "    def start_quiz(self):\n",
        "        fruit, color = random.choice(list(self.fruits.items()))\n",
        "\n",
        "        user_answer = input(f\"What is the color of {fruit}? \").lower()\n",
        "\n",
        "        if user_answer == color.lower():\n",
        "            print(\"Correct!\")\n",
        "        else:\n",
        "            print(f\"Wrong! The correct color of {fruit} is {color}.\")\n",
        "\n",
        "flashcard = FlashCard()\n",
        "\n",
        "flashcard.start_quiz()\n",
        "\n",
        "\n"
      ],
      "metadata": {
        "id": "vCrUF6VU6l6w",
        "outputId": "16adf665-36b8-4acf-c382-1ca6c4176cc3",
        "colab": {
          "base_uri": "https://localhost:8080/"
        }
      },
      "execution_count": null,
      "outputs": [
        {
          "output_type": "stream",
          "name": "stdout",
          "text": [
            "What is the color of Banana? yellow\n",
            "Correct!\n"
          ]
        }
      ]
    },
    {
      "cell_type": "markdown",
      "source": [
        "## `Q-5:` Problem 5 based on OOP Python.\n",
        "\n",
        "TechWorld, a technology training center, wants to allocate courses for instructors. An instructor is identified by name, technology skills, experience and average feedback. An instructor is allocated a course, if he/she satisfies the below two conditions:\n",
        "- eligibility criteria:\n",
        "    - if experience is more than 3 years, average feedback should be 4.5 or more\n",
        "    - if experience is 3 years or less, average feedback should be 4 or more\n",
        "- he/she should posses the technology skill for the course\n",
        "\n",
        "Identify the class name and attributes to represent instructors. Write a Python program to implement the class chosen with its attributes and methods.\n",
        "\n",
        "**Note:**\n",
        "- Consider all instance variables to be private and methods to be public.\n",
        "- An instructor may have multiple technology skills, so consider instance variable, technology_skill to be a list.\n",
        "- *check_eligibility()*: Return true if eligibility criteria is satisfied by the instructor. Else, return false\n",
        "- *allocate_course(technology)*: Return true if the course which requires the given technology can be allocated to the instructor. Else, return false.\n",
        "\n",
        "Represent a few objects of the class, initialize instance variables using setter methods, invoke\n",
        "appropriate methods and test your program."
      ],
      "metadata": {
        "id": "GN2r0jbRewYr"
      }
    },
    {
      "cell_type": "code",
      "source": [
        "# write your code here\n",
        "class Instructor:\n",
        "\n",
        "  def __init__(self,name,skills,exp,feedback):\n",
        "    self.__name=name\n",
        "    self.__skills=skills\n",
        "    self.exp=exp\n",
        "    self.feedback=feedback\n",
        "\n",
        "  def check_eligibility(self):\n",
        "    if self.exp>3 and self.feedback>=4.5:\n",
        "      return 'Yes eligible'\n",
        "    elif self.exp<=3 and self.feedback>=4:\n",
        "      return 'Yes eligible'\n",
        "    else:\n",
        "      return 'Not eligible'\n",
        "\n",
        "  def allocate_course(self,skills):\n",
        "        is_eligible = self.check_eligibility()\n",
        "\n",
        "        if is_eligible:\n",
        "            if skills in self.__skills:\n",
        "                return 'can teach'\n",
        "            else:\n",
        "                return 'doesnt know this subject'\n",
        "        else:\n",
        "            return 'Not eligible only'\n",
        "\n",
        "i=Instructor('anand',['c++','oops','data'],3,4.5)\n",
        "i.allocate_course('data')\n"
      ],
      "metadata": {
        "id": "pdMFuVFnlvKL",
        "colab": {
          "base_uri": "https://localhost:8080/",
          "height": 35
        },
        "outputId": "6657338b-4698-4be3-ea37-3844d89f28e0"
      },
      "execution_count": 11,
      "outputs": [
        {
          "output_type": "execute_result",
          "data": {
            "text/plain": [
              "'can teach'"
            ],
            "application/vnd.google.colaboratory.intrinsic+json": {
              "type": "string"
            }
          },
          "metadata": {},
          "execution_count": 11
        }
      ]
    },
    {
      "cell_type": "code",
      "source": [],
      "metadata": {
        "id": "hc48z2r63IIB"
      },
      "execution_count": null,
      "outputs": []
    }
  ]
}